{
 "cells": [
  {
   "cell_type": "markdown",
   "metadata": {},
   "source": [
    "# A05 Q2: Autoencoders"
   ]
  },
  {
   "cell_type": "markdown",
   "metadata": {},
   "source": [
    "## Preliminaries"
   ]
  },
  {
   "cell_type": "code",
   "execution_count": 1,
   "metadata": {},
   "outputs": [
    {
     "name": "stderr",
     "output_type": "stream",
     "text": [
      "C:\\Users\\Kai\\miniconda3\\envs\\CS479\\lib\\site-packages\\tqdm\\auto.py:22: TqdmWarning: IProgress not found. Please update jupyter and ipywidgets. See https://ipywidgets.readthedocs.io/en/stable/user_install.html\n",
      "  from .autonotebook import tqdm as notebook_tqdm\n"
     ]
    }
   ],
   "source": [
    "import numpy as np\n",
    "import torch\n",
    "import torch.nn as nn\n",
    "import torchvision\n",
    "import matplotlib.pyplot as plt\n",
    "from tqdm import tqdm"
   ]
  },
  {
   "cell_type": "code",
   "execution_count": 47,
   "metadata": {},
   "outputs": [],
   "source": [
    "# In case you are fortunate enough to have access to a GPU...\n",
    "device = 'cuda' if torch.cuda.is_available() else 'cpu'"
   ]
  },
  {
   "cell_type": "code",
   "execution_count": 33,
   "metadata": {},
   "outputs": [],
   "source": [
    "def plot_latent(h, t_class):\n",
    "    '''\n",
    "     plot_latent(h, t_class)\n",
    "     Plots the 2D points in h, coloured according to their class.\n",
    "    '''\n",
    "    colours = ['pink', 'r', 'orange', 'tab:brown', 'y', 'g', 'teal', 'b', \\\n",
    "               'mediumpurple', 'gray', 'b']\n",
    "\n",
    "    plt.figure(figsize=(7,6))\n",
    "    for c in range(10):\n",
    "        hh = h[t_class==c]\n",
    "        if len(hh)>0:\n",
    "            plt.scatter(hh[:,0], hh[:,1], c=colours[c], label=f'{c}')\n",
    "    plt.axis('square');\n",
    "    plt.legend(loc=(1.02, 0.5))\n",
    "    plt.tight_layout();"
   ]
  },
  {
   "cell_type": "markdown",
   "metadata": {},
   "source": [
    "# Dataset: MNIST"
   ]
  },
  {
   "cell_type": "code",
   "execution_count": 34,
   "metadata": {},
   "outputs": [],
   "source": [
    "# You can change img_size to 14 if you want to use smaller (14x14) images.\n",
    "img_size = 28\n",
    "\n",
    "ds_full = torchvision.datasets.MNIST('./files/', train=True, download=True,\n",
    "                            transform=torchvision.transforms.Compose([\n",
    "                            torchvision.transforms.Resize((img_size,img_size)),\n",
    "                            torchvision.transforms.ToTensor(),\n",
    "                            torchvision.transforms.Lambda((lambda x: torch.flatten(x))),\n",
    "                            ]))"
   ]
  },
  {
   "cell_type": "code",
   "execution_count": 35,
   "metadata": {},
   "outputs": [],
   "source": [
    "class MNIST(torch.utils.data.Dataset):\n",
    "    def __init__(self, n=1024, img_size=28):\n",
    "        '''\n",
    "         ds = MNIST(n=1024, img_size=28)\n",
    "         \n",
    "         Creates an MNIST dataset of n digit images of the specified size.\n",
    "         The images are converted to 1D vectors of size (img_size)**2.\n",
    "        '''\n",
    "        self.img_size = img_size\n",
    "        self.n = n\n",
    "        ds_full = torchvision.datasets.MNIST('./files/', train=True, download=True,\n",
    "                            transform=torchvision.transforms.Compose([\n",
    "                            torchvision.transforms.Resize((img_size,img_size)),\n",
    "                            torchvision.transforms.ToTensor(),\n",
    "                            torchvision.transforms.Lambda((lambda x: torch.flatten(x))),\n",
    "                            ]))\n",
    "        ds_n = torch.utils.data.Subset(ds_full, range(self.n))\n",
    "        self.x = ds_n\n",
    "\n",
    "    def __len__(self):\n",
    "        return len(self.x)\n",
    "    \n",
    "    def __getitem__(self, idx):\n",
    "        '''ds.__getitem__(idx) returns the image and class for a sample.\n",
    "        '''\n",
    "        x = self.x[idx][0]\n",
    "        t = self.x[idx][1]\n",
    "        return x, t\n",
    "    \n",
    "    def draw(self, x=None, idx=None):\n",
    "        '''ds.draw(x=None, idx=None)\n",
    "           Draws image x, or the image for index idx. If no argument is\n",
    "           given, it chooses an index randomly.\n",
    "        '''\n",
    "        if x is not None:\n",
    "            # Do nothing\n",
    "            pass\n",
    "        elif idx is not None:\n",
    "            x = self.x[idx][0]\n",
    "        else:\n",
    "            r = np.random.randint(0, high=self.n)\n",
    "            x = self.x[r][0]\n",
    "        with torch.no_grad():\n",
    "            plt.imshow(x.reshape((self.img_size, self.img_size)).detach().numpy(), cmap='gray');\n",
    "            plt.axis('off');"
   ]
  },
  {
   "cell_type": "code",
   "execution_count": 36,
   "metadata": {},
   "outputs": [],
   "source": [
    "ds = MNIST()"
   ]
  },
  {
   "cell_type": "code",
   "execution_count": 37,
   "metadata": {},
   "outputs": [],
   "source": [
    "x, t = ds.__getitem__(12)"
   ]
  },
  {
   "cell_type": "code",
   "execution_count": 38,
   "metadata": {},
   "outputs": [
    {
     "data": {
      "image/png": "[encoded data removed]",
      "text/plain": [
       "<Figure size 432x288 with 1 Axes>"
      ]
     },
     "metadata": {
      "needs_background": "light"
     },
     "output_type": "display_data"
    }
   ],
   "source": [
    "plt.figure()\n",
    "ds.draw(x=x)\n",
    "plt.title(f'Class {t}');"
   ]
  },
  {
   "cell_type": "markdown",
   "metadata": {},
   "source": [
    "## Create some `DataLoader`s"
   ]
  },
  {
   "cell_type": "code",
   "execution_count": 239,
   "metadata": {},
   "outputs": [],
   "source": [
    "# Batched, for training\n",
    "batch_size_train = 256\n",
    "train_dl = torch.utils.data.DataLoader(ds, batch_size=batch_size_train, shuffle=True)"
   ]
  },
  {
   "cell_type": "code",
   "execution_count": 240,
   "metadata": {},
   "outputs": [],
   "source": [
    "# A single batch, for plotting\n",
    "train_all = torch.utils.data.DataLoader(ds, batch_size=1024, shuffle=False)"
   ]
  },
  {
   "cell_type": "markdown",
   "metadata": {},
   "source": [
    "# A. Complete the `MyAE` class"
   ]
  },
  {
   "cell_type": "code",
   "execution_count": 343,
   "metadata": {},
   "outputs": [],
   "source": [
    "class MyAE(nn.Module):\n",
    "    '''\n",
    "     net = MyAE(img_size=28, embedding_dim=2)\n",
    "     \n",
    "     Create an autoencoder for imput images of size (img_size x img_size),\n",
    "     with an embedding (latent) layer of (embedding_dim) neurons.\n",
    "     \n",
    "     Inputs:\n",
    "       img_size       size of input images\n",
    "                      Input samples will be (img_size**2) vectors.\n",
    "       embedding_dim  number of nodes in embedding (latent) layer\n",
    "       \n",
    "     Usage:\n",
    "       net = MyAE()\n",
    "       y = net(x)         # returns output\n",
    "       h = net.encode(x)  # returns latent vectors\n",
    "    '''\n",
    "    def __init__(self, img_size=28, embedding_dim=2):\n",
    "        self.img_size = img_size\n",
    "        self.embedding_dim = embedding_dim\n",
    "        self.losses = []\n",
    "        super().__init__()\n",
    "        \n",
    "        #===== These lines are just placeholders =====\n",
    "#         self.encode = nn.Linear(self.img_size**2, 2) # replace\n",
    "#         self.decode = nn.Linear(2, self.img_size**2) # replace\n",
    "#         for p in self.parameters():  # replace\n",
    "#             p[:] = 0.  # replace\n",
    "        #===== YOUR CODE HERE =====\n",
    "        self.encoder = nn.Sequential(\n",
    "            nn.Linear(self.img_size ** 2, 50),\n",
    "            nn.LeakyReLU(),\n",
    "            nn.Linear(50, 16),\n",
    "            nn.LeakyReLU(),\n",
    "            nn.Linear(16, self.embedding_dim),\n",
    "            nn.Softmax()\n",
    "        )\n",
    "        self.decoder = nn.Sequential(\n",
    "            nn.Linear(self.embedding_dim, 16),\n",
    "            nn.LeakyReLU(),\n",
    "            nn.Linear(16, 50),\n",
    "            nn.LeakyReLU(),\n",
    "            nn.Linear(50, self.img_size ** 2),\n",
    "            nn.Softmax()\n",
    "        )\n",
    "        \n",
    "        \n",
    "    def forward(self, x):\n",
    "        #===== YOUR CODE HERE =====\n",
    "#         return x  # replace this line\n",
    "        self.h = self.encoder(x)\n",
    "        return self.decoder(self.h)\n",
    "\n",
    "    \n",
    "    def learn(self, dl, epochs=10, optimizer=None, loss_fcn=None):\n",
    "        '''\n",
    "         net.learn(dl, epochs=10, optimizer=None, loss_fcn=None)\n",
    "         \n",
    "         Train the network on the dataset delivered by the dataloader dl.\n",
    "         \n",
    "         Inputs:\n",
    "          dl        DataLoader object\n",
    "          epochs    number of epochs to train\n",
    "          optimizer PyTorch optimizer function\n",
    "          loss_fcn  PyTorch loss function\n",
    "        '''\n",
    "        if optimizer is None or loss_fcn is None:\n",
    "            print('Need to specify an optimizer and loss function')\n",
    "            return\n",
    "\n",
    "        for epoch in tqdm(range(epochs)):\n",
    "            total_loss = 0.\n",
    "            count = 0.\n",
    "            for x, t in dl:\n",
    "                x = x.to(device)   # for use with a GPU\n",
    "                t = t.to(device)   # added code: piazza @382\n",
    "                y = self(x)\n",
    "                loss = loss_fcn(y, x)\n",
    "                optimizer.zero_grad()\n",
    "                loss.backward()\n",
    "                optimizer.step()\n",
    "                total_loss += loss.item()*len(t)\n",
    "                count += 1.\n",
    "            self.losses.append(total_loss/len(dl.dataset))\n",
    "\n",
    "        plt.figure(figsize=(6,4))\n",
    "        plt.plot(self.losses); plt.yscale('log');"
   ]
  },
  {
   "cell_type": "markdown",
   "metadata": {},
   "source": [
    "# B. Create and train the network"
   ]
  },
  {
   "cell_type": "code",
   "execution_count": 344,
   "metadata": {},
   "outputs": [],
   "source": [
    "net = MyAE(img_size=img_size, embedding_dim=2)"
   ]
  },
  {
   "cell_type": "code",
   "execution_count": 345,
   "metadata": {
    "scrolled": true
   },
   "outputs": [
    {
     "name": "stderr",
     "output_type": "stream",
     "text": [
      "100%|████████████████████████████████████████████████████████████████████████████████| 500/500 [02:50<00:00,  2.94it/s]\n"
     ]
    },
    {
     "data": {
      "image/png": "[encoded data removed]",
      "text/plain": [
       "<Figure size 432x288 with 1 Axes>"
      ]
     },
     "metadata": {
      "needs_background": "light"
     },
     "output_type": "display_data"
    }
   ],
   "source": [
    "loss = nn.CrossEntropyLoss()\n",
    "optim = torch.optim.SGD(net.parameters(), lr=0.1)\n",
    "net.to(device)\n",
    "net.learn(train_dl, 500, optim, loss)"
   ]
  },
  {
   "cell_type": "code",
   "execution_count": 346,
   "metadata": {},
   "outputs": [],
   "source": [
    "# Uncomment the following line if you want to save your network.\n",
    "# torch.save(net.to('cpu'), '16-8.pt')\n",
    "\n",
    "# The corresponding code to reload the network is below.\n",
    "#net = torch.load('my_AE.pt')\n",
    "# Remember to send it to the GPU, if you're using one.\n",
    "#net.to(device)"
   ]
  },
  {
   "cell_type": "markdown",
   "metadata": {},
   "source": [
    "# C. Plot the latent space"
   ]
  },
  {
   "cell_type": "code",
   "execution_count": 347,
   "metadata": {},
   "outputs": [
    {
     "data": {
      "image/png": "[encoded data removed]",
      "text/plain": [
       "<Figure size 504x432 with 1 Axes>"
      ]
     },
     "metadata": {
      "needs_background": "light"
     },
     "output_type": "display_data"
    }
   ],
   "source": [
    "# h = torch.tensor([[0,0]])   # Replace this line\n",
    "# t_class = torch.tensor([0]) # Replace this line\n",
    "\n",
    "for x, t in train_all:\n",
    "    x = x.to(device)\n",
    "    y = y.to(device)\n",
    "    y = net(x)\n",
    "    h = net.h.cpu().detach().numpy()\n",
    "    t = t.detach().numpy()\n",
    "    plot_latent(h, t)"
   ]
  },
  {
   "cell_type": "markdown",
   "metadata": {},
   "source": [
    "# D. Plot reconstructed digit images"
   ]
  },
  {
   "cell_type": "code",
   "execution_count": 327,
   "metadata": {},
   "outputs": [
    {
     "data": {
      "image/png": "[encoded data removed]",
      "text/plain": [
       "<Figure size 432x288 with 20 Axes>"
      ]
     },
     "metadata": {
      "needs_background": "light"
     },
     "output_type": "display_data"
    }
   ],
   "source": [
    "import random\n",
    "\n",
    "sample = torch.tensor([0] * 10)\n",
    "\n",
    "x, t = iter(train_all).next()\n",
    "\n",
    "for i in range(10):\n",
    "    mask = t == i\n",
    "    population = mask.nonzero() # get a tensor of indices where target == i\n",
    "    index = random.randint(0, len(population)) # sample the population\n",
    "    sample[i] = population[index]\n",
    "\n",
    "sample = sample.flatten()\n",
    "    \n",
    "for i in range(10):\n",
    "    x, t = ds.__getitem__(sample[i])\n",
    "    x = x.to(device)\n",
    "    plt.subplot(2, 10, i + 1)\n",
    "    ds.draw(x.cpu())\n",
    "    y = net(x)\n",
    "    plt.subplot(2, 10, i + 11)\n",
    "    ds.draw(y.cpu())\n"
   ]
  },
  {
   "cell_type": "markdown",
   "metadata": {},
   "source": [
    "# E. Selected Reconstructions"
   ]
  },
  {
   "cell_type": "code",
   "execution_count": null,
   "metadata": {
    "scrolled": false
   },
   "outputs": [],
   "source": []
  },
  {
   "cell_type": "code",
   "execution_count": null,
   "metadata": {
    "scrolled": false
   },
   "outputs": [],
   "source": []
  },
  {
   "cell_type": "code",
   "execution_count": null,
   "metadata": {},
   "outputs": [],
   "source": []
  }
 ],
 "metadata": {
  "kernelspec": {
   "display_name": "Python 3 (ipykernel)",
   "language": "python",
   "name": "python3"
  },
  "language_info": {
   "codemirror_mode": {
    "name": "ipython",
    "version": 3
   },
   "file_extension": ".py",
   "mimetype": "text/x-python",
   "name": "python",
   "nbconvert_exporter": "python",
   "pygments_lexer": "ipython3",
   "version": "3.9.7"
  }
 },
 "nbformat": 4,
 "nbformat_minor": 4
}
